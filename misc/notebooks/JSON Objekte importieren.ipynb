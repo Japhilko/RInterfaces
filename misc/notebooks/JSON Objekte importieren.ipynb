{
 "cells": [
  {
   "cell_type": "markdown",
   "metadata": {},
   "source": [
    "# [JSON Objekte](https://cran.r-project.org/web/packages/jsonlite/vignettes/json-apis.html)"
   ]
  },
  {
   "cell_type": "code",
   "execution_count": 10,
   "metadata": {
    "collapsed": false
   },
   "outputs": [
    {
     "name": "stdout",
     "output_type": "stream",
     "text": [
      "\n",
      "  Es gibt eine Binärversion (und diese wird installiert), jedoch sind\n",
      "  die Quelltexte neuer:\n",
      "      binary source\n",
      "knitr 1.12.3 1.15.1\n",
      "\n"
     ]
    },
    {
     "name": "stderr",
     "output_type": "stream",
     "text": [
      "also installing the dependencies 'mime', 'evaluate', 'formatR', 'highr', 'markdown', 'yaml'\n",
      "\n"
     ]
    },
    {
     "name": "stdout",
     "output_type": "stream",
     "text": [
      "package 'mime' successfully unpacked and MD5 sums checked\n",
      "package 'evaluate' successfully unpacked and MD5 sums checked\n",
      "package 'formatR' successfully unpacked and MD5 sums checked\n",
      "package 'highr' successfully unpacked and MD5 sums checked\n",
      "package 'markdown' successfully unpacked and MD5 sums checked\n",
      "package 'yaml' successfully unpacked and MD5 sums checked\n",
      "package 'knitr' successfully unpacked and MD5 sums checked\n",
      "\n",
      "The downloaded binary packages are in\n",
      "\tD:\\TEMP\\Rtmp6zkhxd\\downloaded_packages\n"
     ]
    }
   ],
   "source": [
    "# install.packages('curl', repos='http://cran.us.r-project.org')\n",
    "# install.packages('knitr', repos='http://cran.us.r-project.org')\n"
   ]
  },
  {
   "cell_type": "markdown",
   "metadata": {},
   "source": [
    "- [Einen Mirror setzen bei der Installation von R-Paketen](http://stackoverflow.com/questions/11488174/how-to-select-a-cran-mirror-in-r)"
   ]
  },
  {
   "cell_type": "code",
   "execution_count": 2,
   "metadata": {
    "collapsed": false
   },
   "outputs": [
    {
     "name": "stderr",
     "output_type": "stream",
     "text": [
      "\n",
      "Attaching package: 'jsonlite'\n",
      "\n",
      "The following object is masked from 'package:utils':\n",
      "\n",
      "    View\n",
      "\n"
     ]
    }
   ],
   "source": [
    "library(jsonlite)"
   ]
  },
  {
   "cell_type": "code",
   "execution_count": 8,
   "metadata": {
    "collapsed": false
   },
   "outputs": [
    {
     "data": {
      "text/html": [
       "<ol class=list-inline>\n",
       "\t<li>\"id\"</li>\n",
       "\t<li>\"stationName\"</li>\n",
       "\t<li>\"availableDocks\"</li>\n",
       "\t<li>\"totalDocks\"</li>\n",
       "\t<li>\"latitude\"</li>\n",
       "\t<li>\"longitude\"</li>\n",
       "\t<li>\"statusValue\"</li>\n",
       "\t<li>\"statusKey\"</li>\n",
       "\t<li>\"availableBikes\"</li>\n",
       "\t<li>\"stAddress1\"</li>\n",
       "\t<li>\"stAddress2\"</li>\n",
       "\t<li>\"city\"</li>\n",
       "\t<li>\"postalCode\"</li>\n",
       "\t<li>\"location\"</li>\n",
       "\t<li>\"altitude\"</li>\n",
       "\t<li>\"testStation\"</li>\n",
       "\t<li>\"lastCommunicationTime\"</li>\n",
       "\t<li>\"landMark\"</li>\n",
       "</ol>\n"
      ],
      "text/latex": [
       "\\begin{enumerate*}\n",
       "\\item \"id\"\n",
       "\\item \"stationName\"\n",
       "\\item \"availableDocks\"\n",
       "\\item \"totalDocks\"\n",
       "\\item \"latitude\"\n",
       "\\item \"longitude\"\n",
       "\\item \"statusValue\"\n",
       "\\item \"statusKey\"\n",
       "\\item \"availableBikes\"\n",
       "\\item \"stAddress1\"\n",
       "\\item \"stAddress2\"\n",
       "\\item \"city\"\n",
       "\\item \"postalCode\"\n",
       "\\item \"location\"\n",
       "\\item \"altitude\"\n",
       "\\item \"testStation\"\n",
       "\\item \"lastCommunicationTime\"\n",
       "\\item \"landMark\"\n",
       "\\end{enumerate*}\n"
      ],
      "text/markdown": [
       "1. \"id\"\n",
       "2. \"stationName\"\n",
       "3. \"availableDocks\"\n",
       "4. \"totalDocks\"\n",
       "5. \"latitude\"\n",
       "6. \"longitude\"\n",
       "7. \"statusValue\"\n",
       "8. \"statusKey\"\n",
       "9. \"availableBikes\"\n",
       "10. \"stAddress1\"\n",
       "11. \"stAddress2\"\n",
       "12. \"city\"\n",
       "13. \"postalCode\"\n",
       "14. \"location\"\n",
       "15. \"altitude\"\n",
       "16. \"testStation\"\n",
       "17. \"lastCommunicationTime\"\n",
       "18. \"landMark\"\n",
       "\n",
       "\n"
      ],
      "text/plain": [
       " [1] \"id\"                    \"stationName\"           \"availableDocks\"       \n",
       " [4] \"totalDocks\"            \"latitude\"              \"longitude\"            \n",
       " [7] \"statusValue\"           \"statusKey\"             \"availableBikes\"       \n",
       "[10] \"stAddress1\"            \"stAddress2\"            \"city\"                 \n",
       "[13] \"postalCode\"            \"location\"              \"altitude\"             \n",
       "[16] \"testStation\"           \"lastCommunicationTime\" \"landMark\"             "
      ]
     },
     "execution_count": 8,
     "metadata": {},
     "output_type": "execute_result"
    }
   ],
   "source": [
    "citibike <- fromJSON(\"http://citibikenyc.com/stations/json\")\n",
    "stations <- citibike$stationBeanList\n",
    "colnames(stations)"
   ]
  },
  {
   "cell_type": "code",
   "execution_count": 11,
   "metadata": {
    "collapsed": false
   },
   "outputs": [],
   "source": [
    "library(knitr)"
   ]
  },
  {
   "cell_type": "code",
   "execution_count": 13,
   "metadata": {
    "collapsed": false
   },
   "outputs": [
    {
     "data": {
      "text/html": [
       "<table>\n",
       "<thead><tr><th></th><th scope=col>id</th><th scope=col>stationName</th><th scope=col>availableDocks</th><th scope=col>totalDocks</th><th scope=col>latitude</th><th scope=col>longitude</th><th scope=col>statusValue</th><th scope=col>statusKey</th><th scope=col>availableBikes</th><th scope=col>stAddress1</th><th scope=col>stAddress2</th><th scope=col>city</th><th scope=col>postalCode</th><th scope=col>location</th><th scope=col>altitude</th><th scope=col>testStation</th><th scope=col>lastCommunicationTime</th><th scope=col>landMark</th></tr></thead>\n",
       "<tbody>\n",
       "\t<tr><th scope=row>1</th><td>72</td><td>W 52 St & 11 Ave</td><td>5</td><td>39</td><td>40.76727</td><td>-73.99393</td><td>In Service</td><td>1</td><td>33</td><td>W 52 St & 11 Ave</td><td></td><td></td><td></td><td></td><td></td><td>FALSE</td><td>2017-04-23 04:48:23 AM</td><td></td></tr>\n",
       "\t<tr><th scope=row>2</th><td>79</td><td>Franklin St & W Broadway</td><td>32</td><td>33</td><td>40.71912</td><td>-74.00667</td><td>In Service</td><td>1</td><td>1</td><td>Franklin St & W Broadway</td><td></td><td></td><td></td><td></td><td></td><td>FALSE</td><td>2017-04-23 04:48:54 AM</td><td></td></tr>\n",
       "\t<tr><th scope=row>3</th><td>82</td><td>St James Pl & Pearl St</td><td>0</td><td>0</td><td>40.71117</td><td>-74.00017</td><td>Not In Service</td><td>3</td><td>0</td><td>St James Pl & Pearl St</td><td></td><td></td><td></td><td></td><td></td><td>FALSE</td><td>2017-04-13 12:05:52 PM</td><td></td></tr>\n",
       "\t<tr><th scope=row>4</th><td>83</td><td>Atlantic Ave & Fort Greene Pl</td><td>19</td><td>62</td><td>40.68383</td><td>-73.97632</td><td>In Service</td><td>1</td><td>41</td><td>Atlantic Ave & Fort Greene Pl</td><td></td><td></td><td></td><td></td><td></td><td>FALSE</td><td>2017-04-23 04:48:05 AM</td><td></td></tr>\n",
       "\t<tr><th scope=row>5</th><td>116</td><td>W 17 St & 8 Ave</td><td>36</td><td>39</td><td>40.74178</td><td>-74.0015</td><td>In Service</td><td>1</td><td>3</td><td>W 17 St & 8 Ave</td><td></td><td></td><td></td><td></td><td></td><td>FALSE</td><td>2017-04-23 04:48:37 AM</td><td></td></tr>\n",
       "\t<tr><th scope=row>6</th><td>119</td><td>Park Ave & St Edwards St</td><td>6</td><td>19</td><td>40.69609</td><td>-73.97803</td><td>In Service</td><td>1</td><td>12</td><td>Park Ave & St Edwards St</td><td></td><td></td><td></td><td></td><td></td><td>FALSE</td><td>2017-04-23 04:48:45 AM</td><td></td></tr>\n",
       "</tbody>\n",
       "</table>\n"
      ],
      "text/latex": [
       "\\begin{tabular}{r|llllllllllllllllll}\n",
       "  & id & stationName & availableDocks & totalDocks & latitude & longitude & statusValue & statusKey & availableBikes & stAddress1 & stAddress2 & city & postalCode & location & altitude & testStation & lastCommunicationTime & landMark\\\\\n",
       "\\hline\n",
       "\t1 & 72 & W 52 St & 11 Ave & 5 & 39 & 40.76727 & -73.99393 & In Service & 1 & 33 & W 52 St & 11 Ave &  &  &  &  &  & FALSE & 2017-04-23 04:48:23 AM & \\\\\n",
       "\t2 & 79 & Franklin St & W Broadway & 32 & 33 & 40.71912 & -74.00667 & In Service & 1 & 1 & Franklin St & W Broadway &  &  &  &  &  & FALSE & 2017-04-23 04:48:54 AM & \\\\\n",
       "\t3 & 82 & St James Pl & Pearl St & 0 & 0 & 40.71117 & -74.00017 & Not In Service & 3 & 0 & St James Pl & Pearl St &  &  &  &  &  & FALSE & 2017-04-13 12:05:52 PM & \\\\\n",
       "\t4 & 83 & Atlantic Ave & Fort Greene Pl & 19 & 62 & 40.68383 & -73.97632 & In Service & 1 & 41 & Atlantic Ave & Fort Greene Pl &  &  &  &  &  & FALSE & 2017-04-23 04:48:05 AM & \\\\\n",
       "\t5 & 116 & W 17 St & 8 Ave & 36 & 39 & 40.74178 & -74.0015 & In Service & 1 & 3 & W 17 St & 8 Ave &  &  &  &  &  & FALSE & 2017-04-23 04:48:37 AM & \\\\\n",
       "\t6 & 119 & Park Ave & St Edwards St & 6 & 19 & 40.69609 & -73.97803 & In Service & 1 & 12 & Park Ave & St Edwards St &  &  &  &  &  & FALSE & 2017-04-23 04:48:45 AM & \\\\\n",
       "\\end{tabular}\n"
      ],
      "text/plain": [
       "   id                   stationName availableDocks totalDocks latitude\n",
       "1  72              W 52 St & 11 Ave              5         39 40.76727\n",
       "2  79      Franklin St & W Broadway             32         33 40.71912\n",
       "3  82        St James Pl & Pearl St              0          0 40.71117\n",
       "4  83 Atlantic Ave & Fort Greene Pl             19         62 40.68383\n",
       "5 116               W 17 St & 8 Ave             36         39 40.74178\n",
       "6 119      Park Ave & St Edwards St              6         19 40.69609\n",
       "  longitude    statusValue statusKey availableBikes\n",
       "1 -73.99393     In Service         1             33\n",
       "2 -74.00667     In Service         1              1\n",
       "3 -74.00017 Not In Service         3              0\n",
       "4 -73.97632     In Service         1             41\n",
       "5 -74.00150     In Service         1              3\n",
       "6 -73.97803     In Service         1             12\n",
       "                     stAddress1 stAddress2 city postalCode location altitude\n",
       "1              W 52 St & 11 Ave                                             \n",
       "2      Franklin St & W Broadway                                             \n",
       "3        St James Pl & Pearl St                                             \n",
       "4 Atlantic Ave & Fort Greene Pl                                             \n",
       "5               W 17 St & 8 Ave                                             \n",
       "6      Park Ave & St Edwards St                                             \n",
       "  testStation  lastCommunicationTime landMark\n",
       "1       FALSE 2017-04-23 04:48:23 AM         \n",
       "2       FALSE 2017-04-23 04:48:54 AM         \n",
       "3       FALSE 2017-04-13 12:05:52 PM         \n",
       "4       FALSE 2017-04-23 04:48:05 AM         \n",
       "5       FALSE 2017-04-23 04:48:37 AM         \n",
       "6       FALSE 2017-04-23 04:48:45 AM         "
      ]
     },
     "execution_count": 13,
     "metadata": {},
     "output_type": "execute_result"
    }
   ],
   "source": [
    "head(stations)"
   ]
  }
 ],
 "metadata": {
  "kernelspec": {
   "display_name": "R",
   "language": "R",
   "name": "ir"
  },
  "language_info": {
   "codemirror_mode": "r",
   "file_extension": ".r",
   "mimetype": "text/x-r-source",
   "name": "R",
   "pygments_lexer": "r",
   "version": "3.1.3"
  }
 },
 "nbformat": 4,
 "nbformat_minor": 0
}
