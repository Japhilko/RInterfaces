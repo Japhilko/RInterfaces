{
 "cells": [
  {
   "cell_type": "markdown",
   "metadata": {},
   "source": [
    "# Die Nutzung von httr"
   ]
  },
  {
   "cell_type": "code",
   "execution_count": 3,
   "metadata": {
    "collapsed": false
   },
   "outputs": [],
   "source": [
    "# install.packages('httr', repos='http://cran.us.r-project.org')"
   ]
  },
  {
   "cell_type": "code",
   "execution_count": 4,
   "metadata": {
    "collapsed": true
   },
   "outputs": [],
   "source": [
    "library(httr)"
   ]
  },
  {
   "cell_type": "markdown",
   "metadata": {},
   "source": [
    "## [Der Start](https://cran.r-project.org/web/packages/httr/vignettes/quickstart.html)"
   ]
  },
  {
   "cell_type": "code",
   "execution_count": 5,
   "metadata": {
    "collapsed": true
   },
   "outputs": [],
   "source": [
    "library(httr)\n",
    "r <- GET(\"http://httpbin.org/get\")"
   ]
  },
  {
   "cell_type": "markdown",
   "metadata": {},
   "source": [
    "## [Wikipedia Scraping](http://rstudio-pubs-static.s3.amazonaws.com/33043_96a9242047f3413c9144afcf22b279ed.html)"
   ]
  },
  {
   "cell_type": "code",
   "execution_count": 6,
   "metadata": {
    "collapsed": false
   },
   "outputs": [
    {
     "name": "stdout",
     "output_type": "stream",
     "text": [
      "\n",
      "  Es gibt eine Binärversion (und diese wird installiert), jedoch sind\n",
      "  die Quelltexte neuer:\n",
      "          binary source\n",
      "WikipediR  1.3.0  1.5.0\n",
      "\n",
      "package 'WikipediR' successfully unpacked and MD5 sums checked\n",
      "\n",
      "The downloaded binary packages are in\n",
      "\tD:\\TEMP\\Rtmps3NYg9\\downloaded_packages\n"
     ]
    }
   ],
   "source": [
    "install.packages(\"WikipediR\",repos='http://cran.us.r-project.org')"
   ]
  },
  {
   "cell_type": "code",
   "execution_count": 7,
   "metadata": {
    "collapsed": false
   },
   "outputs": [
    {
     "name": "stderr",
     "output_type": "stream",
     "text": [
      "Loading required package: jsonlite\n",
      "\n",
      "Attaching package: 'jsonlite'\n",
      "\n",
      "The following object is masked from 'package:utils':\n",
      "\n",
      "    View\n",
      "\n"
     ]
    },
    {
     "data": {
      "text/plain": [
       "\n",
       "To cite package 'WikipediR' in publications use:\n",
       "\n",
       "  Oliver Keyes (2016). WikipediR: A MediaWiki API Wrapper. R package\n",
       "  version 1.3.0. http://CRAN.R-project.org/package=WikipediR\n",
       "\n",
       "A BibTeX entry for LaTeX users is\n",
       "\n",
       "  @Manual{,\n",
       "    title = {WikipediR: A MediaWiki API Wrapper},\n",
       "    author = {Oliver Keyes},\n",
       "    year = {2016},\n",
       "    note = {R package version 1.3.0},\n",
       "    url = {http://CRAN.R-project.org/package=WikipediR},\n",
       "  }\n",
       "\n",
       "ATTENTION: This citation information has been auto-generated from the\n",
       "package DESCRIPTION file and may need manual editing, see\n",
       "'help(\"citation\")'.\n"
      ]
     },
     "execution_count": 7,
     "metadata": {},
     "output_type": "execute_result"
    }
   ],
   "source": [
    "library(WikipediR)\n",
    "citation(\"WikipediR\")"
   ]
  },
  {
   "cell_type": "code",
   "execution_count": 9,
   "metadata": {
    "collapsed": false
   },
   "outputs": [
    {
     "name": "stderr",
     "output_type": "stream",
     "text": [
      "also installing the dependency 'bitops'\n",
      "\n"
     ]
    },
    {
     "name": "stdout",
     "output_type": "stream",
     "text": [
      "package 'bitops' successfully unpacked and MD5 sums checked\n",
      "package 'RCurl' successfully unpacked and MD5 sums checked\n",
      "\n",
      "The downloaded binary packages are in\n",
      "\tD:\\TEMP\\Rtmps3NYg9\\downloaded_packages\n"
     ]
    }
   ],
   "source": [
    "install.packages('RCurl', repos='http://cran.us.r-project.org')"
   ]
  },
  {
   "cell_type": "code",
   "execution_count": 8,
   "metadata": {
    "collapsed": false
   },
   "outputs": [
    {
     "ename": "ERROR",
     "evalue": "Error in library(RCurl): there is no package called 'RCurl'\n",
     "output_type": "error",
     "traceback": [
      "Error in library(RCurl): there is no package called 'RCurl'\n"
     ]
    }
   ],
   "source": [
    "library(RCurl)"
   ]
  },
  {
   "cell_type": "markdown",
   "metadata": {},
   "source": [
    "## Links\n",
    "\n",
    "- [using the httr package to retrieve data from apis in R](https://www.r-bloggers.com/using-the-httr-package-to-retrieve-data-from-apis-in-r/)"
   ]
  }
 ],
 "metadata": {
  "kernelspec": {
   "display_name": "R",
   "language": "R",
   "name": "ir"
  },
  "language_info": {
   "codemirror_mode": "r",
   "file_extension": ".r",
   "mimetype": "text/x-r-source",
   "name": "R",
   "pygments_lexer": "r",
   "version": "3.1.3"
  }
 },
 "nbformat": 4,
 "nbformat_minor": 0
}
